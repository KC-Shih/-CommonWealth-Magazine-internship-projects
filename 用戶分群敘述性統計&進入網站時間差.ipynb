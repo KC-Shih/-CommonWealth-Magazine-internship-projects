{
 "cells": [
  {
   "cell_type": "markdown",
   "metadata": {},
   "source": [
    "## 1.用戶分群敘述性統計"
   ]
  },
  {
   "cell_type": "code",
   "execution_count": 1,
   "metadata": {},
   "outputs": [
    {
     "name": "stderr",
     "output_type": "stream",
     "text": [
      "Warning message:\n",
      "\"package 'data.table' was built under R version 3.6.3\"\n",
      "Warning message:\n",
      "\"package 'dplyr' was built under R version 3.6.3\"\n",
      "\n",
      "Attaching package: 'dplyr'\n",
      "\n",
      "\n",
      "The following objects are masked from 'package:data.table':\n",
      "\n",
      "    between, first, last\n",
      "\n",
      "\n",
      "The following objects are masked from 'package:stats':\n",
      "\n",
      "    filter, lag\n",
      "\n",
      "\n",
      "The following objects are masked from 'package:base':\n",
      "\n",
      "    intersect, setdiff, setequal, union\n",
      "\n",
      "\n"
     ]
    }
   ],
   "source": [
    "#================================#\n",
    "#===20201105用戶分群敘述性統計===#\n",
    "#================================#\n",
    "library(data.table)\n",
    "library(dplyr)\n",
    "setwd(\"D:/cw_intern/raw data\")"
   ]
  },
  {
   "cell_type": "code",
   "execution_count": 2,
   "metadata": {},
   "outputs": [],
   "source": [
    "dat4 = fread(\"用戶看課分析(含產業別).csv\") %>% as.data.frame()\n",
    "sele = c(2,4,9)\n",
    "dat4_1 = dat4[,sele]"
   ]
  },
  {
   "cell_type": "code",
   "execution_count": 3,
   "metadata": {},
   "outputs": [
    {
     "name": "stderr",
     "output_type": "stream",
     "text": [
      "`summarise()` regrouping output by '用戶ID' (override with `.groups` argument)\n",
      "\n"
     ]
    }
   ],
   "source": [
    "CC = dat4_1 %>% \n",
    "  group_by(用戶ID,產業別 ) %>%\n",
    "  summarise(產業別用戶人數 = n()) %>%\n",
    "  arrange(desc(產業別用戶人數))\n"
   ]
  },
  {
   "cell_type": "code",
   "execution_count": 4,
   "metadata": {},
   "outputs": [
    {
     "data": {
      "text/html": [
       "<table>\n",
       "<caption>A matrix: 5 × 2 of type int</caption>\n",
       "<thead>\n",
       "\t<tr><th></th><th scope=col>p</th><th scope=col>q</th></tr>\n",
       "</thead>\n",
       "<tbody>\n",
       "\t<tr><th scope=row>公部門</th><td>1572</td><td> 73037</td></tr>\n",
       "\t<tr><th scope=row>服務業</th><td>4770</td><td>445414</td></tr>\n",
       "\t<tr><th scope=row>金融業</th><td>6754</td><td>520583</td></tr>\n",
       "\t<tr><th scope=row>科技業</th><td>5515</td><td>227678</td></tr>\n",
       "\t<tr><th scope=row>製造業</th><td>3295</td><td>308107</td></tr>\n",
       "</tbody>\n",
       "</table>\n"
      ],
      "text/latex": [
       "A matrix: 5 × 2 of type int\n",
       "\\begin{tabular}{r|ll}\n",
       "  & p & q\\\\\n",
       "\\hline\n",
       "\t公部門 & 1572 &  73037\\\\\n",
       "\t服務業 & 4770 & 445414\\\\\n",
       "\t金融業 & 6754 & 520583\\\\\n",
       "\t科技業 & 5515 & 227678\\\\\n",
       "\t製造業 & 3295 & 308107\\\\\n",
       "\\end{tabular}\n"
      ],
      "text/markdown": [
       "\n",
       "A matrix: 5 × 2 of type int\n",
       "\n",
       "| <!--/--> | p | q |\n",
       "|---|---|---|\n",
       "| 公部門 | 1572 |  73037 |\n",
       "| 服務業 | 4770 | 445414 |\n",
       "| 金融業 | 6754 | 520583 |\n",
       "| 科技業 | 5515 | 227678 |\n",
       "| 製造業 | 3295 | 308107 |\n",
       "\n"
      ],
      "text/plain": [
       "       p    q     \n",
       "公部門 1572  73037\n",
       "服務業 4770 445414\n",
       "金融業 6754 520583\n",
       "科技業 5515 227678\n",
       "製造業 3295 308107"
      ]
     },
     "metadata": {},
     "output_type": "display_data"
    },
    {
     "data": {
      "text/html": [
       "<style>\n",
       ".list-inline {list-style: none; margin:0; padding: 0}\n",
       ".list-inline>li {display: inline-block}\n",
       ".list-inline>li:not(:last-child)::after {content: \"\\00b7\"; padding: 0 .5ex}\n",
       "</style>\n",
       "<ol class=list-inline><li>117</li><li>2</li></ol>\n"
      ],
      "text/latex": [
       "\\begin{enumerate*}\n",
       "\\item 117\n",
       "\\item 2\n",
       "\\end{enumerate*}\n"
      ],
      "text/markdown": [
       "1. 117\n",
       "2. 2\n",
       "\n",
       "\n"
      ],
      "text/plain": [
       "[1] 117   2"
      ]
     },
     "metadata": {},
     "output_type": "display_data"
    },
    {
     "data": {
      "image/png": "[encoded data removed]",
      "text/plain": [
       "Plot with title \"產業別用戶人數\""
      ]
     },
     "metadata": {
      "image/png": {
       "height": 420,
       "width": 420
      }
     },
     "output_type": "display_data"
    }
   ],
   "source": [
    "p = tapply(CC$用戶ID,CC$產業別, length)\n",
    "\n",
    "barplot(sort(p, decreasing = T)\n",
    "        , ylim = c(0,8000),las=1,\n",
    "        border='blue', col='darkblue',\n",
    "        main='產業別用戶人數')\n",
    "q = tapply(dat4$用戶ID, dat4$產業別, length)\n",
    "cbind(p,q)\n",
    "a = unique(cbind(dat4$公司名稱,dat4$產業別)) \n",
    "dim(a)"
   ]
  },
  {
   "cell_type": "code",
   "execution_count": 11,
   "metadata": {},
   "outputs": [
    {
     "name": "stderr",
     "output_type": "stream",
     "text": [
      "Warning message in as.vector(as.numeric(x)):\n",
      "\"強制變更過程中產生了 NA\"\n"
     ]
    },
    {
     "data": {
      "image/png": "[encoded data removed]",
      "text/plain": [
       "plot without title"
      ]
     },
     "metadata": {
      "image/png": {
       "height": 420,
       "width": 420
      }
     },
     "output_type": "display_data"
    }
   ],
   "source": [
    "setwd(\"D:/cw_intern/csv_for_R\")\n",
    "heat = read.csv(\"heatmap用1106.csv\") %>% as.data.frame()\n",
    "\n",
    "colors = colorRampPalette( \n",
    "  RColorBrewer::brewer.pal(9, \"Blues\"))(255)\n",
    "\n",
    "lattice::levelplot(as.matrix(heat), scale=list(x=list(rot=45)))"
   ]
  },
  {
   "cell_type": "markdown",
   "metadata": {},
   "source": [
    "## 2.進入網站時間差"
   ]
  },
  {
   "cell_type": "code",
   "execution_count": 6,
   "metadata": {},
   "outputs": [
    {
     "data": {
      "text/plain": [
       "   Min. 1st Qu.  Median    Mean 3rd Qu.    Max. \n",
       "  0.000   1.000   2.000   7.192   7.000 242.000 "
      ]
     },
     "metadata": {},
     "output_type": "display_data"
    },
    {
     "data": {
      "image/png": "[encoded data removed]",
      "text/plain": [
       "plot without title"
      ]
     },
     "metadata": {
      "image/png": {
       "height": 420,
       "width": 420
      }
     },
     "output_type": "display_data"
    }
   ],
   "source": [
    "setwd(\"D:/cw_intern/csv_for_R\")\n",
    "library(dplyr)\n",
    "## 所有產業、公司的所有用戶進入網站日期差\n",
    "df = read.csv(\"登入時間_次數分配.csv\")\n",
    "all = rep(df$logindate, df$Freq)\n",
    "summary(all)\n",
    "all %>% boxplot()\n"
   ]
  },
  {
   "cell_type": "code",
   "execution_count": 9,
   "metadata": {},
   "outputs": [
    {
     "data": {
      "text/plain": [
       "   Min. 1st Qu.  Median    Mean 3rd Qu.    Max. \n",
       "  1.000   1.000   3.000   9.102   8.000 242.000 "
      ]
     },
     "metadata": {},
     "output_type": "display_data"
    }
   ],
   "source": [
    "## 依產業別區分\n",
    "df = read.csv(\"登入時間差.csv\")\n",
    "\n",
    "FI = df[df$產業別 == \"金融業\",]\n",
    "FI = FI$diff\t\n",
    "FI = (FI) %>% sort() \n",
    "summary(FI)"
   ]
  },
  {
   "cell_type": "code",
   "execution_count": 8,
   "metadata": {},
   "outputs": [
    {
     "data": {
      "text/plain": [
       "   Min. 1st Qu.  Median    Mean 3rd Qu.    Max. \n",
       "  1.000   1.000   3.000   7.616   7.000 235.000 "
      ]
     },
     "metadata": {},
     "output_type": "display_data"
    }
   ],
   "source": [
    "SI = df[df$產業別 == \"服務業\",]\n",
    "SI = SI$diff\n",
    "SI = (SI) %>% sort() \n",
    "summary(SI)"
   ]
  },
  {
   "cell_type": "code",
   "execution_count": 12,
   "metadata": {},
   "outputs": [
    {
     "data": {
      "text/plain": [
       "   Min. 1st Qu.  Median    Mean 3rd Qu.    Max. \n",
       "  1.000   1.000   2.000   7.659   7.000 239.000 "
      ]
     },
     "metadata": {},
     "output_type": "display_data"
    },
    {
     "data": {
      "text/plain": [
       "   Min. 1st Qu.  Median    Mean 3rd Qu.    Max. \n",
       "  1.000   1.000   3.000   7.255   7.000 223.000 "
      ]
     },
     "metadata": {},
     "output_type": "display_data"
    },
    {
     "data": {
      "text/plain": [
       "   Min. 1st Qu.  Median    Mean 3rd Qu.    Max. \n",
       "   1.00    1.00    4.00   10.98   10.00  205.00 "
      ]
     },
     "metadata": {},
     "output_type": "display_data"
    },
    {
     "data": {
      "image/png": "[encoded data removed]",
      "text/plain": [
       "plot without title"
      ]
     },
     "metadata": {
      "image/png": {
       "height": 420,
       "width": 420
      }
     },
     "output_type": "display_data"
    }
   ],
   "source": [
    "TI = df[df$產業別 == \"科技業\",]\n",
    "TI = TI$diff\n",
    "TI = (TI) %>% sort() \n",
    "summary(TI)\n",
    "\n",
    "\n",
    "MI = df[df$產業別 == \"製造業\",]\n",
    "MI = MI$diff\n",
    "MI = (MI) %>% sort() \n",
    "summary(MI)\n",
    "MI %>% boxplot()\n",
    "\n",
    "PS = df[df$產業別 == \"公部門\",]\n",
    "PS = PS$diff\n",
    "PS = (PS) %>% sort() \n",
    "summary(PS)"
   ]
  },
  {
   "cell_type": "code",
   "execution_count": 13,
   "metadata": {},
   "outputs": [
    {
     "data": {
      "image/png": "[encoded data removed]",
      "text/plain": [
       "Plot with title \"製造業\""
      ]
     },
     "metadata": {
      "image/png": {
       "height": 420,
       "width": 420
      }
     },
     "output_type": "display_data"
    }
   ],
   "source": [
    "par(mfrow=c(1,5))\n",
    "PS %>% boxplot(ylim = c(0,250), main = \"公部門\")\n",
    "TI %>% boxplot(ylim = c(0,250), main = \"科技業\")\n",
    "SI %>% boxplot(ylim = c(0,250), main = \"服務業\")\n",
    "FI %>% boxplot(ylim = c(0,250), main = \"金融業\")\n",
    "MI %>% boxplot(ylim = c(0,250), main = \"製造業\")"
   ]
  },
  {
   "cell_type": "code",
   "execution_count": 14,
   "metadata": {},
   "outputs": [],
   "source": [
    "class = c(\"公部門\",\"科技業\",\"服務業\",\"金融業\",\"製造業\")\n",
    "qua0.9 = c(quantile(PS,0.9),quantile(TI,0.9),quantile(SI,0.9),\n",
    "quantile(FI,0.9),quantile(MI,0.9)) %>% as.numeric()\n",
    "date0.9 = rbind(qua0.9,class) %>% as.data.frame()\n"
   ]
  },
  {
   "cell_type": "code",
   "execution_count": 16,
   "metadata": {},
   "outputs": [
    {
     "data": {
      "text/html": [
       "10043"
      ],
      "text/latex": [
       "10043"
      ],
      "text/markdown": [
       "10043"
      ],
      "text/plain": [
       "[1] 10043"
      ]
     },
     "metadata": {},
     "output_type": "display_data"
    },
    {
     "data": {
      "text/html": [
       "0.608629780013333"
      ],
      "text/latex": [
       "0.608629780013333"
      ],
      "text/markdown": [
       "0.608629780013333"
      ],
      "text/plain": [
       "[1] 0.6086298"
      ]
     },
     "metadata": {},
     "output_type": "display_data"
    }
   ],
   "source": [
    "\n",
    "# ===================== #\n",
    "FI = df[df$產業別 == \"金融業\",]\n",
    "SI = df[df$產業別 == \"服務業\",]\n",
    "TI = df[df$產業別 == \"科技業\",]\n",
    "MI = df[df$產業別 == \"製造業\",]\n",
    "PS = df[df$產業別 == \"公部門\",]\n",
    "\n",
    "\n",
    "# 總用戶數 16501\n",
    "FI0.9 = FI[FI$diff > 22,]\n",
    "#FI0.9$用戶ID %>% unique() #  3128\n",
    "\n",
    "SI0.9 = SI[SI$diff > 19,]\n",
    "#SI0.9$用戶ID %>% unique() #  2578\n",
    "\n",
    "TI0.9 = TI[TI$diff > 19,]\n",
    "#TI0.9$用戶ID %>% unique() #  1848\n",
    "\n",
    "MI0.9 = MI[MI$diff > 19,]\n",
    "#MI0.9$用戶ID %>% unique() #  1822\n",
    "\n",
    "PS0.9 = PS[PS$diff > 19,]\n",
    "#PS0.9$用戶ID %>% unique() #  667\n",
    "\n",
    "3128+2578+1848+1822+667\n",
    "10043/16501"
   ]
  },
  {
   "cell_type": "code",
   "execution_count": 22,
   "metadata": {},
   "outputs": [
    {
     "data": {
      "text/plain": [
       "   Min. 1st Qu.  Median    Mean 3rd Qu.    Max. \n",
       "  1.000   1.000   2.000   5.074   6.000  57.000 "
      ]
     },
     "metadata": {},
     "output_type": "display_data"
    },
    {
     "data": {
      "text/plain": [
       "   Min. 1st Qu.  Median    Mean 3rd Qu.    Max. \n",
       "  1.000   1.000   2.000   5.158   6.000  56.000 "
      ]
     },
     "metadata": {},
     "output_type": "display_data"
    },
    {
     "data": {
      "text/plain": [
       "   Min. 1st Qu.  Median    Mean 3rd Qu.    Max. \n",
       "  1.000   1.000   2.000   5.417   7.000  58.000 "
      ]
     },
     "metadata": {},
     "output_type": "display_data"
    },
    {
     "data": {
      "text/plain": [
       "   Min. 1st Qu.  Median    Mean 3rd Qu.    Max. \n",
       "  1.000   1.000   3.000   5.164   7.000  56.000 "
      ]
     },
     "metadata": {},
     "output_type": "display_data"
    },
    {
     "data": {
      "text/plain": [
       "   Min. 1st Qu.  Median    Mean 3rd Qu.    Max. \n",
       "  1.000   1.000   2.000   5.315   7.000  58.000 "
      ]
     },
     "metadata": {},
     "output_type": "display_data"
    }
   ],
   "source": [
    "\n",
    "## ======== 1217 10月11月的資料  ======== ##\n",
    "setwd(\"D:/cw_intern/csv_for_R\")\n",
    "library(dplyr)\n",
    "login_time = read.csv(\"10月-11月登入時間_產業別.csv\")\n",
    "\n",
    "FI = login_time[login_time$產業別 == \"金融業\",]\n",
    "FI = FI$diff\n",
    "FI = (FI) %>% sort() \n",
    "summary(FI)\n",
    "\n",
    "SI = login_time[login_time$產業別 == \"服務業\",]\n",
    "SI = SI$diff\n",
    "SI = (SI) %>% sort() \n",
    "summary(SI)\n",
    "\n",
    "TI = login_time[login_time$產業別 == \"科技業\",]\n",
    "TI = TI$diff\n",
    "TI = (TI) %>% sort() \n",
    "summary(TI)\n",
    "\n",
    "\n",
    "MI = login_time[login_time$產業別 == \"製造業\",]\n",
    "MI = MI$diff\n",
    "MI = (MI) %>% sort() \n",
    "summary(MI)\n",
    "\n",
    "\n",
    "PS = login_time[login_time$產業別 == \"公部門\",]\n",
    "PS = PS$diff\n",
    "PS = (PS) %>% sort() \n",
    "summary(PS)\n",
    "\n",
    "\n",
    "\n",
    "\n"
   ]
  },
  {
   "cell_type": "code",
   "execution_count": 21,
   "metadata": {},
   "outputs": [
    {
     "ename": "ERROR",
     "evalue": "Error in `[.data.frame`(x, order(x, na.last = na.last, decreasing = decreasing)): undefined columns selected\n",
     "output_type": "error",
     "traceback": [
      "Error in `[.data.frame`(x, order(x, na.last = na.last, decreasing = decreasing)): undefined columns selected\nTraceback:\n",
      "1. c(quantile(PS, 0.9), quantile(TI, 0.9), quantile(SI, 0.9), quantile(FI, \n .     0.9), quantile(MI, 0.9)) %>% as.numeric()",
      "2. eval(lhs, parent, parent)",
      "3. eval(lhs, parent, parent)",
      "4. quantile(PS, 0.9)",
      "5. quantile.default(PS, 0.9)",
      "6. sort(x, partial = unique(c(lo, hi)))",
      "7. sort.default(x, partial = unique(c(lo, hi)))",
      "8. x[order(x, na.last = na.last, decreasing = decreasing)]",
      "9. `[.data.frame`(x, order(x, na.last = na.last, decreasing = decreasing))",
      "10. stop(\"undefined columns selected\")"
     ]
    },
    {
     "data": {
      "image/png": "[encoded data removed]",
      "text/plain": [
       "Plot with title \"製造業\""
      ]
     },
     "metadata": {
      "image/png": {
       "height": 420,
       "width": 420
      }
     },
     "output_type": "display_data"
    }
   ],
   "source": [
    "\n",
    "par(mfrow=c(1,5))\n",
    "PS %>% boxplot(ylim = c(0,60), main = \"公部門\")\n",
    "TI %>% boxplot(ylim = c(0,60), main = \"科技業\")\n",
    "SI %>% boxplot(ylim = c(0,60), main = \"服務業\")\n",
    "FI %>% boxplot(ylim = c(0,60), main = \"金融業\")\n",
    "MI %>% boxplot(ylim = c(0,60), main = \"製造業\")\n",
    "\n",
    "class = c(\"公部門\",\"科技業\",\"服務業\",\"金融業\",\"製造業\")\n",
    "qua0.9 = c(quantile(PS,0.9),quantile(TI,0.9),quantile(SI,0.9),\n",
    "           quantile(FI,0.9),quantile(MI,0.9)) %>% as.numeric()\n",
    "date0.9 = rbind(qua0.9,class) %>% as.data.frame()\n",
    "\n",
    "# ===================== #"
   ]
  },
  {
   "cell_type": "code",
   "execution_count": 20,
   "metadata": {},
   "outputs": [
    {
     "ename": "ERROR",
     "evalue": "Error in eval(expr, envir, enclos): 找不到物件 'login_time'\n",
     "output_type": "error",
     "traceback": [
      "Error in eval(expr, envir, enclos): 找不到物件 'login_time'\nTraceback:\n"
     ]
    }
   ],
   "source": [
    "# 重複\n",
    "FI = login_time[login_time$產業別 == \"金融業\",]\n",
    "SI = login_time[login_time$產業別 == \"服務業\",]\n",
    "TI = login_time[login_time$產業別 == \"科技業\",]\n",
    "MI = login_time[login_time$產業別 == \"製造業\",]\n",
    "PS = login_time[login_time$產業別 == \"公部門\",]\n",
    "\n",
    "# 總用戶數 8725\n",
    "login_time$用戶ID %>% unique() %>% length()\n",
    "\n",
    "\n",
    "FI0.9 = FI[FI$diff > 13,]\n",
    "FI0.9$用戶ID %>% unique() -> FI_lost_users \n",
    "FI_lost_users %>% length()  #  1484\n",
    "\n",
    "SI0.9 = SI[SI$diff > 13,]\n",
    "SI0.9$用戶ID %>% unique() -> SI_lost_users \n",
    "SI_lost_users %>% length() #  1137\n",
    "TI0.9 = TI[TI$diff > 14,]\n",
    "TI0.9$用戶ID %>% unique() -> TI_lost_users \n",
    "TI_lost_users %>% length() #  613\n",
    "\n",
    "MI0.9 = MI[MI$diff > 13,]\n",
    "MI0.9$用戶ID %>% unique() -> MI_lost_users \n",
    "MI_lost_users %>% length() #  887\n",
    "\n",
    "PS0.9 = PS[PS$diff > 14,] \n",
    "PS0.9$用戶ID %>% unique() -> PS_lost_users \n",
    "PS_lost_users %>% length() #  388\n",
    "\n",
    "1484+887+388+1137+613\n",
    "4509/8725\n"
   ]
  },
  {
   "cell_type": "code",
   "execution_count": 19,
   "metadata": {},
   "outputs": [
    {
     "ename": "ERROR",
     "evalue": "Error in parse(text = x, srcfile = src): <text>:2:25: 未預期的 ','\n1: #write.xlsx(FI_lost_users, \"lost_users.xlsx\",sheetName = \"金融業\", \n2:            col.names = F,\n                           ^\n",
     "output_type": "error",
     "traceback": [
      "Error in parse(text = x, srcfile = src): <text>:2:25: 未預期的 ','\n1: #write.xlsx(FI_lost_users, \"lost_users.xlsx\",sheetName = \"金融業\", \n2:            col.names = F,\n                           ^\nTraceback:\n"
     ]
    }
   ],
   "source": [
    "#write.xlsx(FI_lost_users, \"lost_users.xlsx\",sheetName = \"金融業\", \n",
    "           col.names = F, row.names = F, append = FALSE)\n",
    "#write.xlsx(TI_lost_users, \"lost_users.xlsx\",sheetName = \"科技業\", \n",
    "           col.names = F, row.names = F, append = TRUE)\n",
    "#write.xlsx(SI_lost_users, \"lost_users.xlsx\",sheetName = \"服務業\", \n",
    "           col.names = F, row.names = F, append = TRUE)\n",
    "#write.xlsx(MI_lost_users, \"lost_users.xlsx\",sheetName = \"製造業\", \n",
    "           col.names = F, row.names = F, append = TRUE)\n",
    "#write.xlsx(PS_lost_users, \"lost_users.xlsx\",sheetName = \"公部門\", \n",
    "           col.names = F, row.names = F, append = TRUE)\n",
    "\n",
    "\n",
    "\n"
   ]
  },
  {
   "cell_type": "code",
   "execution_count": 17,
   "metadata": {},
   "outputs": [
    {
     "data": {
      "image/png": "[encoded data removed]",
      "text/plain": [
       "plot without title"
      ]
     },
     "metadata": {
      "image/png": {
       "height": 420,
       "width": 420
      }
     },
     "output_type": "display_data"
    }
   ],
   "source": [
    "\n",
    "ti = read.csv(\"10月-11月登入時間_次數分配.csv\")\n",
    "ti$diff %>% boxplot()"
   ]
  },
  {
   "cell_type": "code",
   "execution_count": null,
   "metadata": {},
   "outputs": [],
   "source": []
  },
  {
   "cell_type": "code",
   "execution_count": null,
   "metadata": {},
   "outputs": [],
   "source": []
  }
 ],
 "metadata": {
  "kernelspec": {
   "display_name": "R",
   "language": "R",
   "name": "ir"
  },
  "language_info": {
   "codemirror_mode": "r",
   "file_extension": ".r",
   "mimetype": "text/x-r-source",
   "name": "R",
   "pygments_lexer": "r",
   "version": "3.6.1"
  }
 },
 "nbformat": 4,
 "nbformat_minor": 4
}
